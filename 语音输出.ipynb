{
 "cells": [
  {
   "cell_type": "code",
   "execution_count": 1,
   "metadata": {
    "scrolled": true
   },
   "outputs": [
    {
     "name": "stdout",
     "output_type": "stream",
     "text": [
      "pygame 2.1.2 (SDL 2.0.18, Python 3.7.0)\n",
      "Hello from the pygame community. https://www.pygame.org/contribute.html\n"
     ]
    }
   ],
   "source": [
    "import pygame\n",
    "from aip import AipSpeech"
   ]
  },
  {
   "cell_type": "code",
   "execution_count": 2,
   "metadata": {},
   "outputs": [
    {
     "data": {
      "text/plain": [
       "\"\\n参数\\n# 发音人选择，默认为度小美 \\n# 基础音库：0为度小美，1为度小宇，3为度逍遥，4为度丫丫，\\n# 精品音库：5为度小娇，103为度米朵，106为度博文，110为度小童，111为度小萌\\nPER = 3\\n# 语速，取值0-15，默认为5中语速\\nSPD = 6\\n# 音调，取值0-15，默认为5中语调\\nPIT = 5\\n# 音量，取值0-9，默认为5中音量\\nVOL = 7\\n# 下载的文件格式, 3：mp3(default) 4： pcm-16k 5： pcm-8k 6. wav\\nAUE = 3\\n\\nwords = {'greet':'Hi 欢迎使用大白！请先在右上角选择您的就诊地',\\n        'askDepartment':'请告诉我您要就诊的科室？',\\n        'askHospital':'请告诉我您要就诊的医院？',\\n        'askTime':'请告诉我您要就诊的时间？',\\n        'askPosition':'请告诉我您对医生职位的要求（普通/副主任/主任）？',\\n        'noResult1':'暂无符合条件的号源信息，请更改就诊时间',\\n        'noResult2':'暂无符合条件的号源信息，请更改就诊时间/医生职位',\\n        'noResult3':'暂无符合条件的号源信息，请更改就诊时间/医院名称',\\n        'noResult4':'暂无符合条件的号源信息，请更改就诊时间/医院名称/医生职位',\\n        'notUnderstand':'对不起，大白无法理解您的意思。',\\n        'noDepartment':'对不起，大白没有诊断适合您病症的科室，请您咨询专业医生。'}\\n\""
      ]
     },
     "execution_count": 2,
     "metadata": {},
     "output_type": "execute_result"
    }
   ],
   "source": [
    "'''\n",
    "参数\n",
    "# 发音人选择，默认为度小美 \n",
    "# 基础音库：0为度小美，1为度小宇，3为度逍遥，4为度丫丫，\n",
    "# 精品音库：5为度小娇，103为度米朵，106为度博文，110为度小童，111为度小萌\n",
    "PER = 3\n",
    "# 语速，取值0-15，默认为5中语速\n",
    "SPD = 6\n",
    "# 音调，取值0-15，默认为5中语调\n",
    "PIT = 5\n",
    "# 音量，取值0-9，默认为5中音量\n",
    "VOL = 7\n",
    "# 下载的文件格式, 3：mp3(default) 4： pcm-16k 5： pcm-8k 6. wav\n",
    "AUE = 3\n",
    "\n",
    "words = {'greet':'Hi 欢迎使用大白！请先在右上角选择您的就诊地',\n",
    "        'askDepartment':'请告诉我您要就诊的科室？',\n",
    "        'askHospital':'请告诉我您要就诊的医院？',\n",
    "        'askTime':'请告诉我您要就诊的时间？',\n",
    "        'askPosition':'请告诉我您对医生职位的要求（普通或副主任或主任）？',\n",
    "        'noResult1':'暂无符合条件的号源信息，请更改就诊时间',\n",
    "        'noResult2':'暂无符合条件的号源信息，请更改就诊时间或医生职位',\n",
    "        'noResult3':'暂无符合条件的号源信息，请更改就诊时间或医院名称',\n",
    "        'noResult4':'暂无符合条件的号源信息，请更改就诊时间或医院名称或医生职位',\n",
    "        'notUnderstand':'对不起，大白无法理解您的意思。',\n",
    "        'noDepartment':'对不起，大白没有诊断适合您病症的科室，请您咨询专业医生。'}\n",
    "'''"
   ]
  },
  {
   "cell_type": "code",
   "execution_count": 2,
   "metadata": {},
   "outputs": [],
   "source": [
    "def speech(word, filename):\n",
    "    APP_ID = '26338036'\n",
    "    API_KEY = 'PncYxkfOrVIHfjLGhNgpfY2w'\n",
    "    SECRET_KEY = 'nQEWzx9lBjC7RXn8jORp4nRvs7LbpAne'\n",
    "    client = AipSpeech(APP_ID, API_KEY, SECRET_KEY) \n",
    "    result  = client.synthesis(word, 'zh', 1, {'vol': 5,'per':0}) \n",
    "    if not isinstance(result, dict):\n",
    "        with open('audio/'+str(filename)+'.mp3', 'wb') as f:\n",
    "            f.write(result)"
   ]
  },
  {
   "cell_type": "code",
   "execution_count": 3,
   "metadata": {},
   "outputs": [],
   "source": [
    "words = {'greet':'Hi 欢迎使用大白！请先在右上角选择您的就诊地',\n",
    "        'askDepartment':'请告诉我您要就诊的科室？',\n",
    "        'askHospital':'请告诉我您要就诊的医院？',\n",
    "        'askTime':'请告诉我您要就诊的时间？',\n",
    "        'askPosition':'请告诉我您对医生职位的要求（普通或副主任或主任）？',\n",
    "        'noResult1':'暂无符合条件的号源信息，请更改就诊时间',\n",
    "        'noResult2':'暂无符合条件的号源信息，请更改就诊时间或医生职位',\n",
    "        'noResult3':'暂无符合条件的号源信息，请更改就诊时间或医院名称',\n",
    "        'noResult4':'暂无符合条件的号源信息，请更改就诊时间或医院名称或医生职位',\n",
    "        'notUnderstand':'对不起，大白无法理解您的意思。',\n",
    "        'noDepartment':'对不起，大白没有诊断适合您病症的科室，请您咨询专业医生。'}\n",
    "\n",
    "for filename, word in words.items():\n",
    "    speech(word, filename)"
   ]
  },
  {
   "cell_type": "code",
   "execution_count": null,
   "metadata": {},
   "outputs": [],
   "source": []
  }
 ],
 "metadata": {
  "kernelspec": {
   "display_name": "Python 3",
   "language": "python",
   "name": "python3"
  },
  "language_info": {
   "codemirror_mode": {
    "name": "ipython",
    "version": 3
   },
   "file_extension": ".py",
   "mimetype": "text/x-python",
   "name": "python",
   "nbconvert_exporter": "python",
   "pygments_lexer": "ipython3",
   "version": "3.7.0"
  }
 },
 "nbformat": 4,
 "nbformat_minor": 2
}
